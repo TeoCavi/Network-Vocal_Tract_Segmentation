{
 "cells": [
  {
   "cell_type": "markdown",
   "metadata": {},
   "source": [
    "# Dependencies"
   ]
  },
  {
   "cell_type": "code",
   "execution_count": 20,
   "metadata": {},
   "outputs": [],
   "source": [
    "import nrrd\n",
    "import slicerio as si\n",
    "import os\n",
    "from tkinter import filedialog\n",
    "import matplotlib.pyplot as plt\n",
    "import numpy as np\n",
    "import med_dataloader as mdl\n",
    "import tensorflow as tf\n",
    "import numpy as np"
   ]
  },
  {
   "cell_type": "markdown",
   "metadata": {},
   "source": [
    "# Segmentations Check"
   ]
  },
  {
   "cell_type": "code",
   "execution_count": 19,
   "metadata": {},
   "outputs": [],
   "source": [
    "dataset_dir = os.path.join(os.getcwd(), \"Dataset\")\n",
    "segmentation_dir = os.path.join(dataset_dir , \"Segmentation\") #mettere dataset nella working directory\n",
    "segmentation_checked_dir = os.path.join(dataset_dir , \"Segmentation_checked\")\n",
    "\n",
    "try:\n",
    "    os.mkdir(segmentation_checked_dir)\n",
    "except:\n",
    "    pass\n"
   ]
  },
  {
   "cell_type": "markdown",
   "metadata": {},
   "source": [
    "## Check"
   ]
  },
  {
   "cell_type": "code",
   "execution_count": 21,
   "metadata": {},
   "outputs": [],
   "source": [
    "\n",
    "input_filenames = os.listdir(segmentation_dir)\n",
    "segment_list = [(\"LL\", 5), (\"SP\", 3), (\"TO\", 4), (\"UL\", 1), (\"HE\", 6), (\"HP\", 2)]\n",
    "\n",
    "seg = 0\n",
    "\n",
    "for segmentation in input_filenames:\n",
    "    input_filename = os.path.join(segmentation_dir, input_filenames[seg])\n",
    "    output_filename = os.path.join(segmentation_checked_dir, input_filenames[seg])\n",
    "    seg = seg + 1\n",
    "    voxels, header = nrrd.read(input_filename)\n",
    "    segmentation_info = si.read_segmentation_info(input_filename)\n",
    "    output_voxels, output_header = si.extract_segments(voxels, header, segmentation_info, segment_list)\n",
    "    output_voxels = output_voxels.astype(\"uint8\") #necessario per avere un nnrd in output con type 'uint8' anzichè 'float64' non gestito da med_dataloader\n",
    "    nrrd.write(output_filename, output_voxels, output_header)\n"
   ]
  },
  {
   "cell_type": "markdown",
   "metadata": {},
   "source": [
    "## Mac os Compatibility"
   ]
  },
  {
   "cell_type": "code",
   "execution_count": 8,
   "metadata": {},
   "outputs": [],
   "source": [
    "try:\n",
    "    os.system(\"rm\" , os.path.join(segmentation_checked_dir, \".DS_Store\"))\n",
    "except BaseException:\n",
    "    pass"
   ]
  },
  {
   "cell_type": "code",
   "execution_count": 22,
   "metadata": {},
   "outputs": [
    {
     "name": "stdout",
     "output_type": "stream",
     "text": [
      "460\n",
      "460\n"
     ]
    }
   ],
   "source": [
    "print(len(input_filenames))\n",
    "output_filenames = os.listdir(segmentation_checked_dir)\n",
    "print(len(output_filenames))"
   ]
  },
  {
   "cell_type": "markdown",
   "metadata": {},
   "source": [
    "## Control Plotting\n",
    "* Display a comparison between original segmentation and segmentation checked"
   ]
  },
  {
   "cell_type": "code",
   "execution_count": null,
   "metadata": {},
   "outputs": [],
   "source": [
    "seg = 0\n",
    "\n",
    "for segmentation in  input_filenames:\n",
    "    input_filename = os.path.join(segmentation_dir, input_filenames[seg])\n",
    "    output_filename = os.path.join(segmentation_checked_dir, input_filenames[seg])\n",
    "    seg = seg + 1\n",
    "    voxels, header = nrrd.read(input_filename)\n",
    "    output_voxels, header = nrrd.read(output_filename)\n",
    "\n",
    "    fig = plt.figure(figsize = [45, 15])\n",
    "    plt.subplot(1, 2, 1)\n",
    "    plt.imshow(voxels[:,:,0], cmap=\"magma\")\n",
    "    plt.subplot(1, 2, 2)\n",
    "    plt.imshow(output_voxels[:,:,0], cmap=\"magma\")\n",
    "    plt.show(fig)\n",
    "    "
   ]
  },
  {
   "cell_type": "markdown",
   "metadata": {},
   "source": [
    "# Dataloader"
   ]
  },
  {
   "cell_type": "code",
   "execution_count": 23,
   "metadata": {},
   "outputs": [],
   "source": [
    "NUM_CLASSES = 7"
   ]
  },
  {
   "cell_type": "code",
   "execution_count": 24,
   "metadata": {},
   "outputs": [
    {
     "name": "stdout",
     "output_type": "stream",
     "text": [
      "Caching decoded images in c:\\Users\\matte\\Desktop\\Network-Vocal_Tract_Segmentation\\Dataset_TF\\Images.cache...\n",
      "460/460\n",
      "Cached decoded images in c:\\Users\\matte\\Desktop\\Network-Vocal_Tract_Segmentation\\Dataset_TF\\Images.cache.\n",
      "Caching decoded images in c:\\Users\\matte\\Desktop\\Network-Vocal_Tract_Segmentation\\Dataset_TF\\Segmentation_checked.cache...\n",
      "460/460\n",
      "Cached decoded images in c:\\Users\\matte\\Desktop\\Network-Vocal_Tract_Segmentation\\Dataset_TF\\Segmentation_checked.cache.\n"
     ]
    }
   ],
   "source": [
    "mdl.generate_dataset(data_dir= os.path.join(dataset_dir),\n",
    "                        imgA_label=\"Images\",\n",
    "                        imgB_label=\"Segmentation_checked\",\n",
    "                        input_size=256,\n",
    "                        is_B_categorical=True,\n",
    "                        num_classes = NUM_CLASSES,\n",
    "                        norm_boundsA=[0,255], #normalizza tra 0 e 1; bisogna mettere lower_bound,upper_bound dell'immagine corrente!!! (non i limiti che si vogliono raggiungere)\n",
    "                        norm_boundsB=None,\n",
    "                        )"
   ]
  },
  {
   "cell_type": "markdown",
   "metadata": {},
   "source": [
    "# Utils"
   ]
  },
  {
   "cell_type": "code",
   "execution_count": null,
   "metadata": {},
   "outputs": [],
   "source": [
    "\n",
    "max = 0\n",
    "min = 255\n",
    "for batch in train_ds.take(93): #meno hc\n",
    "    volume_batch, label_batch = batch\n",
    "    for i in range(4): #meno hc\n",
    "        max_start = np.max(volume_batch[i,:,:])\n",
    "        min_start = np.min(volume_batch[i,:,:])\n",
    "        if max_start > max:\n",
    "            max = max_start\n",
    "        if min_start < min:\n",
    "            min = min_start\n",
    "\n",
    "#print(np.shape(volume_batch))\n",
    "print(max, min)"
   ]
  }
 ],
 "metadata": {
  "interpreter": {
   "hash": "a3ef9f1017b2df126a2f55c5b9f1431007f60732979d986d4cc140fd3016b06f"
  },
  "kernelspec": {
   "display_name": "Python 3.7.9 64-bit ('Virtual_Env': venv)",
   "name": "python3"
  },
  "language_info": {
   "codemirror_mode": {
    "name": "ipython",
    "version": 3
   },
   "file_extension": ".py",
   "mimetype": "text/x-python",
   "name": "python",
   "nbconvert_exporter": "python",
   "pygments_lexer": "ipython3",
   "version": "3.7.9"
  },
  "orig_nbformat": 4
 },
 "nbformat": 4,
 "nbformat_minor": 2
}
