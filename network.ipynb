{
 "cells": [
  {
   "cell_type": "code",
   "execution_count": 1,
   "source": [
    "import med_dataloader as mdl\r\n",
    "import tensorflow as tf\r\n",
    "import matplotlib.pyplot as plt\r\n",
    "import os"
   ],
   "outputs": [],
   "metadata": {}
  },
  {
   "cell_type": "code",
   "execution_count": 2,
   "source": [
    "train_ds, validation_ds, test_ds = mdl.get_dataset(data_dir = os.path.join(os.getcwd(), \"Dataset_Prova_TF\"),\r\n",
    "                                                    percentages = [0.8, 0.1, 0.1],\r\n",
    "                                                    batch_size = 4,\r\n",
    "                                                    train_augmentation = False,\r\n",
    "                                                    random_crop_size = None,\r\n",
    "                                                    random_rotate = False,\r\n",
    "                                                    random_flip = False,\r\n",
    "                                                    )"
   ],
   "outputs": [],
   "metadata": {}
  },
  {
   "cell_type": "markdown",
   "source": [
    "# Networks"
   ],
   "metadata": {}
  },
  {
   "cell_type": "code",
   "execution_count": null,
   "source": [
    "import numpy as np\r\n",
    "import tensorflow as tf\r\n",
    "from tensorflow import keras\r\n",
    "from tensorflow.keras import layers"
   ],
   "outputs": [],
   "metadata": {}
  },
  {
   "cell_type": "markdown",
   "source": [
    "## Gold Standard Net"
   ],
   "metadata": {}
  },
  {
   "cell_type": "code",
   "execution_count": 26,
   "source": [
    "inputs = keras.Input(shape=(256,256,1)) #Batch size ??\r\n",
    "\r\n",
    "#ENCODING\r\n",
    "#First Layer\r\n",
    "x = tf.keras.layers.Conv2D(64, kernel_size = (3,3), strides = (1,1), padding ='same', activation = 'linear')(inputs)\r\n",
    "x = tf.keras.layers.BatchNormalization()(x)\r\n",
    "x = tf.keras.layers.ReLU()(x)\r\n",
    "x = tf.keras.layers.Conv2D(64, kernel_size = (3,3), strides = (1,1), padding ='same', activation = 'linear')(x)\r\n",
    "x = tf.keras.layers.BatchNormalization()(x)\r\n",
    "x1 = tf.keras.layers.ReLU()(x)\r\n",
    "first_layer = tf.keras.layers.MaxPooling2D(strides=(2,2), pool_size=(2,2))(x1)\r\n",
    "\r\n",
    "#Second Layer\r\n",
    "\r\n",
    "x = tf.keras.layers.Conv2D(128, kernel_size = (3,3), strides = (1,1), padding ='same', activation = 'linear')(first_layer)\r\n",
    "x = tf.keras.layers.BatchNormalization()(x)\r\n",
    "x = tf.keras.layers.ReLU()(x)\r\n",
    "x = tf.keras.layers.Conv2D(128, kernel_size = (3,3), strides = (1,1), padding ='same', activation = 'linear')(x)\r\n",
    "x = tf.keras.layers.BatchNormalization()(x)\r\n",
    "x2 = tf.keras.layers.ReLU()(x)\r\n",
    "second_layer = tf.keras.layers.MaxPooling2D(strides=(2,2), pool_size=(2,2))(x2)\r\n",
    "\r\n",
    "#Third Layer\r\n",
    "\r\n",
    "x = tf.keras.layers.Conv2D(256, kernel_size = (3,3), strides = (1,1), padding ='same', activation = 'linear')(second_layer)\r\n",
    "x = tf.keras.layers.BatchNormalization()(x)\r\n",
    "x = tf.keras.layers.ReLU()(x)\r\n",
    "x = tf.keras.layers.Conv2D(256, kernel_size = (3,3), strides = (1,1), padding ='same', activation = 'linear')(x)\r\n",
    "x = tf.keras.layers.BatchNormalization()(x)\r\n",
    "x3 = tf.keras.layers.ReLU()(x)\r\n",
    "third_layer = tf.keras.layers.MaxPooling2D(strides=(2,2), pool_size=(2,2))(x3)\r\n",
    "\r\n",
    "#Fourth Layer\r\n",
    "\r\n",
    "x = tf.keras.layers.Conv2D(512, kernel_size = (3,3), strides = (1,1), padding ='same', activation = 'linear')(third_layer)\r\n",
    "x = tf.keras.layers.BatchNormalization()(x)\r\n",
    "x = tf.keras.layers.ReLU()(x)\r\n",
    "x = tf.keras.layers.Conv2D(512, kernel_size = (3,3), strides = (1,1), padding ='same', activation = 'linear')(x)\r\n",
    "x = tf.keras.layers.BatchNormalization()(x)\r\n",
    "x4 = tf.keras.layers.ReLU()(x)\r\n",
    "fourt_layer = tf.keras.layers.MaxPooling2D(strides=(2,2), pool_size=(2,2))(x4)\r\n",
    "\r\n",
    "#Fifth Layer (Bottlenek)\r\n",
    "\r\n",
    "x = tf.keras.layers.Conv2D(1024, kernel_size = (3,3), strides = (1,1), padding ='same', activation = 'linear')(fourt_layer)\r\n",
    "x = tf.keras.layers.BatchNormalization()(x)\r\n",
    "x = tf.keras.layers.ReLU()(x)\r\n",
    "x = tf.keras.layers.Conv2D(1024, kernel_size = (3,3), strides = (1,1), padding ='same', activation = 'linear')(x)\r\n",
    "x = tf.keras.layers.BatchNormalization()(x)\r\n",
    "fifth_layer = tf.keras.layers.ReLU()(x)\r\n",
    "\r\n",
    "#DECODING\r\n",
    "#First Layer\r\n",
    "\r\n",
    "x = tf.keras.layers.Conv2DTranspose(512, kernel_size = (2,2), strides = (2,2), padding = 'same', activation = 'linear')(fifth_layer)\r\n",
    "x = tf.keras.layers.Concatenate()([x4, x])\r\n",
    "x = tf.keras.layers.Conv2D(512, kernel_size = (3,3), strides = (1,1), padding ='same', activation = 'linear')(x)\r\n",
    "x = tf.keras.layers.BatchNormalization()(x)\r\n",
    "x = tf.keras.layers.ReLU()(x)\r\n",
    "x = tf.keras.layers.Conv2D(512, kernel_size = (3,3), strides = (1,1), padding ='same', activation = 'linear')(x)\r\n",
    "x = tf.keras.layers.BatchNormalization()(x)\r\n",
    "first_layer_deconv = tf.keras.layers.ReLU()(x)\r\n",
    "\r\n",
    "#Second Layer\r\n",
    "\r\n",
    "x = tf.keras.layers.Conv2DTranspose(256, kernel_size = (2,2), strides = (2,2), padding = 'same', activation = 'linear')(first_layer_deconv)\r\n",
    "x = tf.keras.layers.Concatenate()([x3, x])\r\n",
    "x = tf.keras.layers.Conv2D(256, kernel_size = (3,3), strides = (1,1), padding ='same', activation = 'linear')(x)\r\n",
    "x = tf.keras.layers.BatchNormalization()(x)\r\n",
    "x = tf.keras.layers.ReLU()(x)\r\n",
    "x = tf.keras.layers.Conv2D(256, kernel_size = (3,3), strides = (1,1), padding ='same', activation = 'linear')(x)\r\n",
    "x = tf.keras.layers.BatchNormalization()(x)\r\n",
    "second_layer_deconv = tf.keras.layers.ReLU()(x)\r\n",
    "\r\n",
    "#Third Layer\r\n",
    "\r\n",
    "x = tf.keras.layers.Conv2DTranspose(128, kernel_size = (2,2), strides = (2,2), padding = 'same', activation = 'linear')(second_layer_deconv)\r\n",
    "x = tf.keras.layers.Concatenate()([x2, x])\r\n",
    "x = tf.keras.layers.Conv2D(128, kernel_size = (3,3), strides = (1,1), padding ='same', activation = 'linear')(x)\r\n",
    "x = tf.keras.layers.BatchNormalization()(x)\r\n",
    "x = tf.keras.layers.ReLU()(x)\r\n",
    "x = tf.keras.layers.Conv2D(128, kernel_size = (3,3), strides = (1,1), padding ='same', activation = 'linear')(x)\r\n",
    "x = tf.keras.layers.BatchNormalization()(x)\r\n",
    "third_layer_deconv = tf.keras.layers.ReLU()(x)\r\n",
    "\r\n",
    "#Fourth Layer\r\n",
    "\r\n",
    "x = tf.keras.layers.Conv2DTranspose(64, kernel_size = (2,2), strides = (2,2), padding = 'same', activation = 'linear')(third_layer_deconv)\r\n",
    "x = tf.keras.layers.Concatenate()([x1, x])\r\n",
    "x = tf.keras.layers.Conv2D(64, kernel_size = (3,3), strides = (1,1), padding ='same', activation = 'linear')(x)\r\n",
    "x = tf.keras.layers.BatchNormalization()(x)\r\n",
    "x = tf.keras.layers.ReLU()(x)\r\n",
    "x = tf.keras.layers.Conv2D(64, kernel_size = (3,3), strides = (1,1), padding ='same', activation = 'linear')(x)\r\n",
    "x = tf.keras.layers.BatchNormalization()(x)\r\n",
    "fourth_layer_deconv = tf.keras.layers.ReLU()(x)\r\n",
    "x = tf.keras.layers.Conv2D(64, kernel_size = (3,3), strides = (1,1), padding ='same', activation = 'linear')(fourth_layer_deconv)\r\n",
    "outputs = tf.keras.layers.Softmax(axis=-1)(x)\r\n",
    "\r\n",
    "my_model = tf.keras.Model(inputs = inputs, outputs = outputs)\r\n",
    "\r\n"
   ],
   "outputs": [],
   "metadata": {}
  },
  {
   "cell_type": "code",
   "execution_count": 24,
   "source": [
    "my_model.compile(\r\n",
    "    loss = keras.losses.CategoricalCrossentropy(from_logits=True),\r\n",
    "    optimizer = keras.optimizers.Adam(beta_1=0.9, beta_2=0.999, epsilon=1e-8),\r\n",
    "    metrics = [\"BinaryAccuracy\"],\r\n",
    ")"
   ],
   "outputs": [],
   "metadata": {}
  },
  {
   "cell_type": "code",
   "execution_count": null,
   "source": [
    "history = my_model.fit(history = my_model.fit(train_ds, epochs = 5, verbose = 1, validation_data = validation_ds))"
   ],
   "outputs": [],
   "metadata": {}
  }
 ],
 "metadata": {
  "orig_nbformat": 4,
  "language_info": {
   "name": "python",
   "version": "3.7.9",
   "mimetype": "text/x-python",
   "codemirror_mode": {
    "name": "ipython",
    "version": 3
   },
   "pygments_lexer": "ipython3",
   "nbconvert_exporter": "python",
   "file_extension": ".py"
  },
  "kernelspec": {
   "name": "python3",
   "display_name": "Python 3.7.9 64-bit ('Virtual_Env': venv)"
  },
  "interpreter": {
   "hash": "a3ef9f1017b2df126a2f55c5b9f1431007f60732979d986d4cc140fd3016b06f"
  }
 },
 "nbformat": 4,
 "nbformat_minor": 2
}